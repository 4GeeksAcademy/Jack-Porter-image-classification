{
 "cells": [
  {
   "cell_type": "markdown",
   "metadata": {},
   "source": [
    "# Dogs vs. cats image classification: Inception V3"
   ]
  },
  {
   "cell_type": "code",
   "execution_count": null,
   "metadata": {
    "execution": {
     "iopub.execute_input": "2025-04-04T01:22:17.320855Z",
     "iopub.status.busy": "2025-04-04T01:22:17.320575Z",
     "iopub.status.idle": "2025-04-04T01:22:29.132823Z",
     "shell.execute_reply": "2025-04-04T01:22:29.132132Z",
     "shell.execute_reply.started": "2025-04-04T01:22:17.320833Z"
    },
    "trusted": true
   },
   "outputs": [],
   "source": [
    "# Handle imports up-front\n",
    "import os\n",
    "import sys\n",
    "import glob\n",
    "\n",
    "# Silence logging messages from TensorFlow, except errors\n",
    "os.environ['TF_CPP_MIN_LOG_LEVEL']='2'\n",
    "\n",
    "# Use a specific GPU\n",
    "os.environ['CUDA_VISIBLE_DEVICES']='1'\n",
    "\n",
    "# PyPI imports\n",
    "import tensorflow as tf\n",
    "from keras.applications.inception_v3 import InceptionV3\n",
    "from keras.models import Model\n",
    "from keras.layers import Dense, GlobalAveragePooling2D\n",
    "\n",
    "# Figure out if we are running on Kaggle or not, if so\n",
    "# add the location of utils.py to path so we can import\n",
    "path_list=os.getcwd().split(os.sep)\n",
    "\n",
    "if path_list[1] == 'kaggle':\n",
    "    sys.path.append('/kaggle/input/image-classification-functions/')\n",
    "\n",
    "# Import custom helper functions from utils.py\n",
    "from utils import prep_data\n",
    "from utils import plot_single_training_run\n",
    "\n",
    "# Silence logging messages from TensorFlow, except errors\n",
    "tf.get_logger().setLevel('ERROR')\n",
    "\n",
    "# Limit TensorFlow's CPU usage\n",
    "tf.config.threading.set_intra_op_parallelism_threads(4)\n",
    "tf.config.threading.set_inter_op_parallelism_threads(4)"
   ]
  },
  {
   "cell_type": "markdown",
   "metadata": {},
   "source": [
    "## 1. Data preparation\n",
    "\n",
    "### 1.1. Load the data paths"
   ]
  },
  {
   "cell_type": "code",
   "execution_count": null,
   "metadata": {
    "execution": {
     "iopub.execute_input": "2025-04-04T01:22:29.134505Z",
     "iopub.status.busy": "2025-04-04T01:22:29.133890Z",
     "iopub.status.idle": "2025-04-04T01:22:40.515877Z",
     "shell.execute_reply": "2025-04-04T01:22:40.514846Z",
     "shell.execute_reply.started": "2025-04-04T01:22:29.134469Z"
    },
    "trusted": true
   },
   "outputs": [],
   "source": [
    "# Decompress and organize the images\n",
    "training_data_path, testing_data_path=prep_data()\n",
    "\n",
    "# Get lists of training dog and cat images\n",
    "training_dogs=glob.glob(f'{training_data_path}/dogs/dog.*')\n",
    "training_cats=glob.glob(f'{training_data_path}/cats/cat.*')"
   ]
  },
  {
   "cell_type": "markdown",
   "metadata": {},
   "source": [
    "### 1.2. Create training, validation and testing datasets"
   ]
  },
  {
   "cell_type": "code",
   "execution_count": null,
   "metadata": {},
   "outputs": [],
   "source": [
    "training_dataset, validation_dataset=tf.keras.utils.image_dataset_from_directory(\n",
    "    training_data_path,\n",
    "    validation_split=0.2,\n",
    "    subset='both',\n",
    "    seed=315,\n",
    "    image_size=(256, int(256*(3/4))),\n",
    "    batch_size=16\n",
    ")"
   ]
  },
  {
   "cell_type": "code",
   "execution_count": null,
   "metadata": {},
   "outputs": [],
   "source": [
    "# create the base pre-trained model\n",
    "base_model=InceptionV3(weights='imagenet', include_top=False)\n",
    "\n",
    "# Add a global spatial average pooling layer, and extra dense layer\n",
    "# and a binary output layer\n",
    "x=base_model.output\n",
    "x=GlobalAveragePooling2D()(x)\n",
    "x=Dense(1024, activation='relu')(x)\n",
    "predictions=Dense(1, activation='sigmoid')(x)\n",
    "\n",
    "model=Model(inputs=base_model.input, outputs=predictions)\n",
    "\n",
    "# Train only the top layers by freezing all convolutional InceptionV3 layers\n",
    "for layer in base_model.layers:\n",
    "   layer.trainable = False\n",
    "\n",
    "# Compile the model to train on binary cross-entropy loss\n",
    "model.compile(optimizer='rmsprop', loss='binary_crossentropy')\n",
    "\n",
    "# Train the model on the new data for a few epochs\n",
    "training_result=model.fit(\n",
    "   training_dataset,\n",
    "   validation_data=validation_dataset,\n",
    "   epochs=5\n",
    ")"
   ]
  },
  {
   "cell_type": "code",
   "execution_count": null,
   "metadata": {},
   "outputs": [],
   "source": [
    "# Plot the results\n",
    "plot_single_training_run(training_results).show()"
   ]
  }
 ],
 "metadata": {
  "kaggle": {
   "accelerator": "none",
   "dataSources": [
    {
     "databundleVersionId": 31148,
     "sourceId": 3362,
     "sourceType": "competition"
    },
    {
     "datasetId": 7044195,
     "sourceId": 11269043,
     "sourceType": "datasetVersion"
    }
   ],
   "isGpuEnabled": false,
   "isInternetEnabled": true,
   "language": "python",
   "sourceType": "notebook"
  },
  "kernelspec": {
   "display_name": ".venv-GPU",
   "language": "python",
   "name": "python3"
  },
  "language_info": {
   "codemirror_mode": {
    "name": "ipython",
    "version": 3
   },
   "file_extension": ".py",
   "mimetype": "text/x-python",
   "name": "python",
   "nbconvert_exporter": "python",
   "pygments_lexer": "ipython3",
   "version": "3.8.10"
  }
 },
 "nbformat": 4,
 "nbformat_minor": 4
}
