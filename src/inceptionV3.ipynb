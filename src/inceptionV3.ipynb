{
 "cells": [
  {
   "cell_type": "markdown",
   "metadata": {},
   "source": [
    "# Dogs vs. cats image classification: Inception V3"
   ]
  },
  {
   "cell_type": "code",
   "execution_count": 1,
   "metadata": {
    "execution": {
     "iopub.execute_input": "2025-04-05T19:36:32.572731Z",
     "iopub.status.busy": "2025-04-05T19:36:32.572392Z",
     "iopub.status.idle": "2025-04-05T19:36:36.213654Z",
     "shell.execute_reply": "2025-04-05T19:36:36.212950Z",
     "shell.execute_reply.started": "2025-04-05T19:36:32.572695Z"
    },
    "trusted": true
   },
   "outputs": [],
   "source": [
    "# Handle imports up-front\n",
    "import os\n",
    "import sys\n",
    "import glob\n",
    "import pickle\n",
    "from pathlib import Path\n",
    "from functools import partial\n",
    "\n",
    "# Silence logging messages from TensorFlow, except errors\n",
    "os.environ['TF_CPP_MIN_LOG_LEVEL']='2'\n",
    "\n",
    "# Use a specific GPU, if desired\n",
    "os.environ['CUDA_VISIBLE_DEVICES']='2'\n",
    "\n",
    "# PyPI imports\n",
    "import numpy as np\n",
    "import matplotlib.pyplot as plt\n",
    "import tensorflow as tf\n",
    "from keras.applications import inception_v3\n",
    "from keras.models import Model\n",
    "from keras import layers #import Input, RandomFlip, RandomZoom, RandomRotation, Dense, GlobalAveragePooling2D, Dropout\n",
    "from sklearn.metrics import accuracy_score, confusion_matrix, ConfusionMatrixDisplay\n",
    "\n",
    "# Import SDG optimizer correctly based on the TensorFlow version\n",
    "tf_version=float('.'.join(tf.__version__.split('.')[0:2]))\n",
    "\n",
    "if tf_version > 2.8:\n",
    "    from keras.optimizers import SGD\n",
    "    sgd=SGD(learning_rate=0.00005, momentum=0.9)\n",
    "\n",
    "else:\n",
    "    from keras.optimizers import gradient_descent_v2\n",
    "    sgd=gradient_descent_v2.SGD(learning_rate=0.00005, momentum=0.9)\n",
    "\n",
    "# Figure out if we are running on Kaggle or not, then do some path stuff\n",
    "# based on the answer\n",
    "path_list=os.getcwd().split(os.sep)\n",
    "\n",
    "if path_list[1] == 'kaggle':\n",
    "    sys.path.append('/kaggle/usr/lib/image_classification_functions')\n",
    "    model_path='/kaggle/working/models'\n",
    "\n",
    "else:\n",
    "    model_path='../data/models'\n",
    "\n",
    "# Import custom helper functions from utils.py\n",
    "from image_classification_functions import prep_data\n",
    "from image_classification_functions import plot_single_training_run\n",
    "\n",
    "# Silence logging messages from TensorFlow, except errors\n",
    "tf.get_logger().setLevel('ERROR')\n",
    "\n",
    "# Limit TensorFlow's CPU usage\n",
    "tf.config.threading.set_intra_op_parallelism_threads(2)\n",
    "tf.config.threading.set_inter_op_parallelism_threads(2)"
   ]
  },
  {
   "cell_type": "code",
   "execution_count": 2,
   "metadata": {
    "execution": {
     "iopub.execute_input": "2025-04-05T19:36:36.215411Z",
     "iopub.status.busy": "2025-04-05T19:36:36.214928Z",
     "iopub.status.idle": "2025-04-05T19:36:36.219550Z",
     "shell.execute_reply": "2025-04-05T19:36:36.218622Z",
     "shell.execute_reply.started": "2025-04-05T19:36:36.215377Z"
    },
    "trusted": true
   },
   "outputs": [],
   "source": [
    "tune_output=True\n",
    "tune_inception_block=True\n",
    "\n",
    "Path(model_path).mkdir(parents=True, exist_ok=True)\n",
    "output_tuned_savefile=f'{model_path}/inceptionV3_output_tuned.pkl'\n",
    "inception_tuned_savefile=f'{model_path}/inceptionV3_tuned.pkl'"
   ]
  },
  {
   "cell_type": "markdown",
   "metadata": {},
   "source": [
    "## 1. Data preparation\n",
    "\n",
    "### 1.1. Load the data paths"
   ]
  },
  {
   "cell_type": "code",
   "execution_count": 3,
   "metadata": {
    "execution": {
     "iopub.execute_input": "2025-04-05T19:36:36.223395Z",
     "iopub.status.busy": "2025-04-05T19:36:36.223105Z",
     "iopub.status.idle": "2025-04-05T19:36:36.329132Z",
     "shell.execute_reply": "2025-04-05T19:36:36.328487Z",
     "shell.execute_reply.started": "2025-04-05T19:36:36.223362Z"
    },
    "trusted": true
   },
   "outputs": [
    {
     "name": "stdout",
     "output_type": "stream",
     "text": [
      "Not running in Kaggle notebook\n",
      "Checking data prep\n",
      "Data prep already complete\n"
     ]
    }
   ],
   "source": [
    "# Decompress and organize the images\n",
    "training_data_path, validation_data_path, testing_data_path=prep_data()\n",
    "\n",
    "# Get lists of training and validation dog and cat images\n",
    "training_dogs=glob.glob(f'{training_data_path}/dogs/dog.*')\n",
    "training_cats=glob.glob(f'{training_data_path}/cats/cat.*')\n",
    "validation_dogs=glob.glob(f'{validation_data_path}/dogs/dog.*')\n",
    "validation_cats=glob.glob(f'{validation_data_path}/cats/cat.*')"
   ]
  },
  {
   "cell_type": "markdown",
   "metadata": {},
   "source": [
    "### 1.2. Create training and validation datasets"
   ]
  },
  {
   "cell_type": "code",
   "execution_count": 4,
   "metadata": {
    "execution": {
     "iopub.execute_input": "2025-04-05T19:36:36.330039Z",
     "iopub.status.busy": "2025-04-05T19:36:36.329836Z",
     "iopub.status.idle": "2025-04-05T19:36:38.674393Z",
     "shell.execute_reply": "2025-04-05T19:36:38.673505Z",
     "shell.execute_reply.started": "2025-04-05T19:36:36.330021Z"
    },
    "trusted": true
   },
   "outputs": [],
   "source": [
    "training_dataset=tf.keras.utils.image_dataset_from_directory(\n",
    "    training_data_path,\n",
    "    image_size=(int(128*(3/4)),128),\n",
    "    batch_size=256\n",
    ")\n",
    "\n",
    "validation_dataset=tf.keras.utils.image_dataset_from_directory(\n",
    "    validation_data_path,\n",
    "    image_size=(int(128*(3/4)),128),\n",
    "    batch_size=256\n",
    ")"
   ]
  },
  {
   "cell_type": "markdown",
   "metadata": {},
   "source": [
    "## 2. Model fine-tuning\n",
    "### 2.1. Train output layers"
   ]
  },
  {
   "cell_type": "code",
   "execution_count": null,
   "metadata": {
    "execution": {
     "iopub.execute_input": "2025-04-05T19:36:39.251173Z",
     "iopub.status.busy": "2025-04-05T19:36:39.250939Z",
     "iopub.status.idle": "2025-04-05T19:43:09.745728Z",
     "shell.execute_reply": "2025-04-05T19:43:09.744904Z",
     "shell.execute_reply.started": "2025-04-05T19:36:39.251153Z"
    },
    "trusted": true
   },
   "outputs": [
    {
     "name": "stdout",
     "output_type": "stream",
     "text": [
      "Epoch 1/30\n"
     ]
    }
   ],
   "source": [
    "%%time\n",
    "\n",
    "if tune_output == True:\n",
    "\n",
    "    # Define a preprocessing model\n",
    "    preprocessing_input=layers.Input(shape=(96,128,3))\n",
    "    x=layers.RandomFlip('horizontal')(preprocessing_input)\n",
    "    x=layers.RandomRotation(0.1)(x)\n",
    "    x=layers.RandomZoom(0.1)(x)\n",
    "    preprocessing_output=inception_v3.preprocess_input(x)\n",
    "    preprocessing_model=Model(inputs=preprocessing_input, outputs=preprocessing_output)\n",
    "\n",
    "    # Create the base pre-trained model\n",
    "    base_model=inception_v3.InceptionV3(weights='imagenet', input_shape=(96,128,3), include_top=False)\n",
    "\n",
    "    # Train only the output layers by freezing all convolutional InceptionV3 layers\n",
    "    for layer in base_model.layers:\n",
    "        layer.trainable = False\n",
    "\n",
    "    # Add some output layers\n",
    "    x=base_model.output\n",
    "    x=layers.GlobalAveragePooling2D()(x)\n",
    "    x=layers.Dropout(0.2)(x)\n",
    "    x=layers.Dense(128,activation='relu')(x)\n",
    "    predictions=layers.Dense(1, activation='sigmoid')(x)\n",
    "\n",
    "    # Define the inception v3 model with the added output layers\n",
    "    inception_model=Model(inputs=base_model.input, outputs=predictions)\n",
    "\n",
    "    # Define the combined model\n",
    "    model_input=layers.Input(shape=(96,128,3))\n",
    "    preprocessing_output=preprocessing_model(model_input)\n",
    "    inception_output=inception_model(preprocessing_output)\n",
    "    model=Model(inputs=model_input, outputs=inception_output)\n",
    "\n",
    "    # Compile the model to train on binary cross-entropy loss\n",
    "    model.compile(optimizer='rmsprop', loss='binary_crossentropy', metrics=['binary_accuracy'])\n",
    "\n",
    "    # Train the model on the new data for a few epochs\n",
    "    training_result=model.fit(\n",
    "        training_dataset,\n",
    "        validation_data=validation_dataset,\n",
    "        epochs=30\n",
    "    )\n",
    "\n",
    "    # Save the results\n",
    "    with open(output_tuned_savefile, 'wb') as output_file:\n",
    "        pickle.dump(training_result, output_file, protocol=pickle.HIGHEST_PROTOCOL)\n",
    "\n",
    "else:\n",
    "    with open(output_tuned_savefile, 'rb') as output_file:\n",
    "        training_result=pickle.load(output_file)\n",
    "\n",
    "print()"
   ]
  },
  {
   "cell_type": "code",
   "execution_count": null,
   "metadata": {
    "execution": {
     "iopub.execute_input": "2025-04-05T19:43:09.747142Z",
     "iopub.status.busy": "2025-04-05T19:43:09.746899Z",
     "iopub.status.idle": "2025-04-05T19:43:10.138985Z",
     "shell.execute_reply": "2025-04-05T19:43:10.137975Z",
     "shell.execute_reply.started": "2025-04-05T19:43:09.747120Z"
    },
    "trusted": true
   },
   "outputs": [],
   "source": [
    "# Plot the results\n",
    "plot_single_training_run(training_result).show()"
   ]
  },
  {
   "cell_type": "markdown",
   "metadata": {},
   "source": [
    "### 2.2. Train inception layers"
   ]
  },
  {
   "cell_type": "code",
   "execution_count": null,
   "metadata": {
    "execution": {
     "execution_failed": "2025-04-05T20:06:36.639Z",
     "iopub.execute_input": "2025-04-05T19:43:10.441763Z",
     "iopub.status.busy": "2025-04-05T19:43:10.441449Z"
    },
    "trusted": true
   },
   "outputs": [],
   "source": [
    "%%time\n",
    "\n",
    "if tune_inception_block is True:\n",
    "\n",
    "    # Train the top 2 inception blocks, by freezing the first 249 layers\n",
    "    # of the inception model layer in the combined model\n",
    "    for layer in training_result.model.layers[2].layers[:249]:\n",
    "        layer.trainable=False\n",
    "    for layer in training_result.model.layers[2].layers[249:]:\n",
    "        layer.trainable=True\n",
    "\n",
    "    # Recompile the model using SGD with a low learning rate\n",
    "    training_result.model.compile(\n",
    "        optimizer=sgd,\n",
    "        loss='binary_crossentropy',\n",
    "        metrics=['binary_accuracy']\n",
    "    )\n",
    "\n",
    "    # Train again\n",
    "    training_result=training_result.model.fit(\n",
    "        training_dataset,\n",
    "        validation_data=validation_dataset,\n",
    "        epochs=100\n",
    "    )\n",
    "\n",
    "    # Save the results\n",
    "    with open(inception_tuned_savefile, 'wb') as output_file:\n",
    "        pickle.dump(training_result, output_file, protocol=pickle.HIGHEST_PROTOCOL)\n",
    "\n",
    "else:\n",
    "    with open(inception_tuned_savefile, 'rb') as output_file:\n",
    "        training_result=pickle.load(output_file)\n",
    "\n",
    "print()"
   ]
  },
  {
   "cell_type": "code",
   "execution_count": null,
   "metadata": {
    "execution": {
     "execution_failed": "2025-04-05T20:06:36.640Z"
    },
    "trusted": true
   },
   "outputs": [],
   "source": [
    "# Plot the results\n",
    "plot_single_training_run(training_result).show()"
   ]
  },
  {
   "cell_type": "markdown",
   "metadata": {},
   "source": [
    "## 3. Model evaluation\n",
    "\n",
    "### 3.1. Testing dataset"
   ]
  },
  {
   "cell_type": "code",
   "execution_count": null,
   "metadata": {},
   "outputs": [],
   "source": [
    "testing_dataset=tf.keras.utils.image_dataset_from_directory(\n",
    "    testing_data_path,\n",
    "    image_size=(int(128*(3/4)),128)\n",
    ")"
   ]
  },
  {
   "cell_type": "markdown",
   "metadata": {},
   "source": [
    "### 3.2. Make testing predictions"
   ]
  },
  {
   "cell_type": "code",
   "execution_count": null,
   "metadata": {
    "execution": {
     "execution_failed": "2025-04-05T20:06:36.641Z"
    },
    "trusted": true
   },
   "outputs": [],
   "source": [
    "images=np.concatenate([x for x, y in testing_dataset], axis=0)\n",
    "labels=np.concatenate([y for x, y in testing_dataset], axis=0)\n",
    "\n",
    "predictions=training_result.model.predict(images)\n",
    "print(f'Testing images shape: {images.shape}')\n",
    "print(f'Testing labels shape: {labels.shape}')\n",
    "\n",
    "threshold=0.5\n",
    "predictions=[1 if p > threshold else 0 for p in predictions]\n",
    "\n",
    "accuracy=accuracy_score(predictions, labels)*100\n",
    "print(f'Test set accuracy: {accuracy:.1f}%')"
   ]
  },
  {
   "cell_type": "markdown",
   "metadata": {},
   "source": [
    "### 3.3. Model performance"
   ]
  },
  {
   "cell_type": "code",
   "execution_count": null,
   "metadata": {
    "execution": {
     "execution_failed": "2025-04-05T20:06:36.641Z"
    },
    "trusted": true
   },
   "outputs": [],
   "source": [
    "# Plot the confusion matrix\n",
    "cm=confusion_matrix(labels, predictions, normalize='true')\n",
    "cm_disp=ConfusionMatrixDisplay(confusion_matrix=cm)\n",
    "_=cm_disp.plot()\n",
    "\n",
    "plt.title(f'Test set performance\\noverall accuracy: {accuracy:.1f}%')\n",
    "plt.xlabel('Predicted class')\n",
    "plt.ylabel('True class')\n",
    "plt.show()"
   ]
  }
 ],
 "metadata": {
  "kaggle": {
   "accelerator": "gpu",
   "dataSources": [
    {
     "databundleVersionId": 31148,
     "sourceId": 3362,
     "sourceType": "competition"
    },
    {
     "sourceId": 232114593,
     "sourceType": "kernelVersion"
    }
   ],
   "dockerImageVersionId": 30919,
   "isGpuEnabled": true,
   "isInternetEnabled": true,
   "language": "python",
   "sourceType": "notebook"
  },
  "kernelspec": {
   "display_name": ".venv-GPU",
   "language": "python",
   "name": "python3"
  },
  "language_info": {
   "codemirror_mode": {
    "name": "ipython",
    "version": 3
   },
   "file_extension": ".py",
   "mimetype": "text/x-python",
   "name": "python",
   "nbconvert_exporter": "python",
   "pygments_lexer": "ipython3",
   "version": "3.8.10"
  }
 },
 "nbformat": 4,
 "nbformat_minor": 4
}
